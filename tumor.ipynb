{
  "nbformat": 4,
  "nbformat_minor": 0,
  "metadata": {
    "colab": {
      "name": "tumor.ipynb",
      "version": "0.3.2",
      "provenance": [],
      "include_colab_link": true
    },
    "kernelspec": {
      "name": "python3",
      "display_name": "Python 3"
    },
    "accelerator": "GPU"
  },
  "cells": [
    {
      "cell_type": "markdown",
      "metadata": {
        "id": "view-in-github",
        "colab_type": "text"
      },
      "source": [
        "<a href=\"https://colab.research.google.com/github/shubham2004/brain-tumor-detection-/blob/master/tumor.ipynb\" target=\"_parent\"><img src=\"https://colab.research.google.com/assets/colab-badge.svg\" alt=\"Open In Colab\"/></a>"
      ]
    },
    {
      "metadata": {
        "id": "2qA7jQY0znmw",
        "colab_type": "code",
        "colab": {
          "base_uri": "https://localhost:8080/",
          "height": 34
        },
        "outputId": "7fb74c1e-67ba-418e-fefb-ff5ea3aa2c98"
      },
      "cell_type": "code",
      "source": [
        "from zipfile import *\n",
        "file_name = 'dataset.zip'\n",
        "with ZipFile(file_name,'r') as zip:\n",
        "  zip.extractall()\n",
        "  print('Done')"
      ],
      "execution_count": 2,
      "outputs": [
        {
          "output_type": "stream",
          "text": [
            "Done\n"
          ],
          "name": "stdout"
        }
      ]
    },
    {
      "metadata": {
        "id": "z_RGeQVdxSlG",
        "colab_type": "code",
        "colab": {
          "base_uri": "https://localhost:8080/",
          "height": 139
        },
        "outputId": "c2862b74-779e-4d58-fc33-bbd25c59b3f5"
      },
      "cell_type": "code",
      "source": [
        "# i use try and except to skip the faulty image in dataset\n",
        "# Importing Keras libraries and packages\n",
        "from keras.models import Sequential\n",
        "from keras.layers import Conv2D\n",
        "from keras.layers import MaxPooling2D\n",
        "from keras.layers import Flatten\n",
        "from keras.layers import Dense\n",
        "# Initialising the CNN\n",
        "# their are two types of CNN in here i use sequential\n",
        "classifier = Sequential()\n",
        "# creating Convolution matrix and  performing convolution\n",
        "#here 32 is conv layer filter size and 3,3 is conv matrix use for convolution and input shape is 64*64*3 here 3 is rgb layers of a single image\n",
        "classifier.add(Conv2D(32, (3, 3), input_shape = (256,256, 3), activation = 'relu'))\n",
        "# Max Pooling\n",
        "classifier.add(MaxPooling2D(pool_size = (2, 2)))\n",
        "# again doing convolution on the first layer\n",
        "classifier.add(Conv2D(32, (3, 3), activation = 'relu'))\n",
        "#again applying max pooling \n",
        "classifier.add(MaxPooling2D(pool_size = (2, 2)))\n",
        "# Flattening\n",
        "# this layer convert 2D image or lets say vector into 1D vector\n",
        "classifier.add(Flatten())\n",
        "# Full connection\n",
        "# this step is same as neural network the last flatterned layer is used as input to neural network \n",
        "classifier.add(Dense(units = 128, activation = 'relu'))\n",
        "classifier.add(Dense(units = 1, activation = 'sigmoid'))\n",
        "# Compiling the CNN\n",
        "classifier.compile(optimizer = 'adam', loss = 'binary_crossentropy', metrics = ['accuracy'])\n",
        "# Fitting the CNN to the images\n",
        "from keras.preprocessing.image import ImageDataGenerator\n",
        "# this is data generator\n",
        "train_datagen = ImageDataGenerator(rescale = 1./255,\n",
        "shear_range = 0.2,\n",
        "zoom_range = 0.2,\n",
        "horizontal_flip = True)\n",
        "test_datagen = ImageDataGenerator(rescale = 1./255)\n",
        "try:\n",
        "    training_set = train_datagen.flow_from_directory('dataset/training_set',\n",
        "    target_size = (256, 256),\n",
        "    batch_size = 32,\n",
        "    class_mode = 'binary')\n",
        "except Exception as e:\n",
        "        print(e)\n",
        "# test set generator\n",
        "try:\n",
        "    test_set = test_datagen.flow_from_directory('dataset/test_set',\n",
        "    target_size = (256, 256),\n",
        "    batch_size = 32,\n",
        "    class_mode = 'binary')\n",
        "except Exception as e:\n",
        "        print(e)\n",
        "# training the classifier\n",
        "try:\n",
        "    classifier.fit_generator(training_set,\n",
        "    steps_per_epoch = 800,\n",
        "    epochs = 2,\n",
        "    validation_data = test_set,\n",
        "    validation_steps = 200)\n",
        "except Exception as e:\n",
        "        print(e)"
      ],
      "execution_count": 4,
      "outputs": [
        {
          "output_type": "stream",
          "text": [
            "Found 32 images belonging to 2 classes.\n",
            "Found 10 images belonging to 2 classes.\n",
            "Epoch 1/2\n",
            "800/800 [==============================] - 412s 515ms/step - loss: 0.1338 - acc: 0.9546 - val_loss: 0.0136 - val_acc: 1.0000\n",
            "Epoch 2/2\n",
            "800/800 [==============================] - 403s 503ms/step - loss: 0.0815 - acc: 0.9646 - val_loss: 0.0809 - val_acc: 1.0000\n"
          ],
          "name": "stdout"
        }
      ]
    },
    {
      "metadata": {
        "id": "wL4n37-PwfVZ",
        "colab_type": "code",
        "colab": {
          "base_uri": "https://localhost:8080/",
          "height": 51
        },
        "outputId": "73682245-33d4-484d-a11a-2339826975a6"
      },
      "cell_type": "code",
      "source": [
        "\n",
        "# Making new predictions\n",
        "import numpy as np\n",
        "from keras.preprocessing import image\n",
        "#taking new image to predict\n",
        "test_image = image.load_img('dataset/training_set/normal/n4.jpg', target_size = (256, 256))\n",
        "test_image = image.img_to_array(test_image)\n",
        "test_image = np.expand_dims(test_image, axis = 0)\n",
        "result = classifier.predict(test_image)\n",
        "training_set.class_indices\n",
        "print(result)\n",
        "#extracting result\n",
        "if result[0][0] == 0:\n",
        "    prediction = 'normal'\n",
        "else:\n",
        "    prediction = 'tumor'\n",
        "\n",
        "print(prediction)\n"
      ],
      "execution_count": 8,
      "outputs": [
        {
          "output_type": "stream",
          "text": [
            "[[0.]]\n",
            "normal\n"
          ],
          "name": "stdout"
        }
      ]
    },
    {
      "metadata": {
        "id": "PKdkWHLOzQId",
        "colab_type": "code",
        "colab": {}
      },
      "cell_type": "code",
      "source": [
        "from google.colab import files\n",
        "\n",
        "uploaded = files.upload()\n",
        "\n",
        "for fn in uploaded.keys():\n",
        "  print('User uploaded file \"{name}\" with length {length} bytes'.format(\n",
        "      name=fn, length=len(uploaded[fn])))"
      ],
      "execution_count": 0,
      "outputs": []
    },
    {
      "metadata": {
        "id": "8ZkG67AGzQeE",
        "colab_type": "code",
        "colab": {}
      },
      "cell_type": "code",
      "source": [
        ""
      ],
      "execution_count": 0,
      "outputs": []
    },
    {
      "metadata": {
        "id": "QZxyMxj40BeY",
        "colab_type": "code",
        "colab": {}
      },
      "cell_type": "code",
      "source": [
        ""
      ],
      "execution_count": 0,
      "outputs": []
    },
    {
      "metadata": {
        "id": "d2rT-G9bysTU",
        "colab_type": "code",
        "colab": {}
      },
      "cell_type": "code",
      "source": [
        ""
      ],
      "execution_count": 0,
      "outputs": []
    }
  ]
}